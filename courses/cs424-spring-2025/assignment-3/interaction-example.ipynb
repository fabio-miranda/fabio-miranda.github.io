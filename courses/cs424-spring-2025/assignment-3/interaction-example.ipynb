{
 "cells": [
  {
   "cell_type": "code",
   "execution_count": 3,
   "id": "18da49e2",
   "metadata": {},
   "outputs": [],
   "source": [
    "import pandas as pd\n",
    "from vega import VegaLite\n",
    "from vega.widget import VegaWidget"
   ]
  },
  {
   "cell_type": "code",
   "execution_count": 8,
   "id": "6ec32720",
   "metadata": {},
   "outputs": [],
   "source": [
    "example = {\n",
    "  \"description\": \"A simple bar chart with embedded data.\",\n",
    "  \"data\": {\n",
    "    \"values\": [\n",
    "      {\"a\": \"A\", \"b\": 28}, {\"a\": \"B\", \"b\": 55}, {\"a\": \"C\", \"b\": 43},\n",
    "      {\"a\": \"D\", \"b\": 91}, {\"a\": \"E\", \"b\": 81}, {\"a\": \"F\", \"b\": 53},\n",
    "      {\"a\": \"G\", \"b\": 19}, {\"a\": \"H\", \"b\": 87}, {\"a\": \"I\", \"b\": 52}\n",
    "    ]\n",
    "  },\n",
    "  \"mark\": \"bar\",\n",
    "  \"encoding\": {\n",
    "    \"x\": {\"field\": \"a\", \"type\": \"nominal\", \"axis\": {\"labelAngle\": 0}},\n",
    "    \"y\": {\"field\": \"b\", \"type\": \"quantitative\"}\n",
    "  }\n",
    "}\n"
   ]
  },
  {
   "cell_type": "code",
   "execution_count": 9,
   "id": "aede23c5",
   "metadata": {},
   "outputs": [
    {
     "data": {
      "application/javascript": [
       "const spec = {\"$schema\": \"https://vega.github.io/schema/vega-lite/v5.json\", \"description\": \"A simple bar chart with embedded data.\", \"data\": {\"values\": [{\"a\": \"A\", \"b\": 28}, {\"a\": \"B\", \"b\": 55}, {\"a\": \"C\", \"b\": 43}, {\"a\": \"D\", \"b\": 91}, {\"a\": \"E\", \"b\": 81}, {\"a\": \"F\", \"b\": 53}, {\"a\": \"G\", \"b\": 19}, {\"a\": \"H\", \"b\": 87}, {\"a\": \"I\", \"b\": 52}]}, \"mark\": \"bar\", \"encoding\": {\"x\": {\"field\": \"a\", \"type\": \"nominal\", \"axis\": {\"labelAngle\": 0}}, \"y\": {\"field\": \"b\", \"type\": \"quantitative\"}}};\n",
       "const opt = {};\n",
       "const type = \"vega-lite\";\n",
       "const id = \"8f53e753-ce11-449d-8407-3e5516d409f7\";\n",
       "\n",
       "const output_area = this;\n",
       "\n",
       "require([\"jupyter-vega\"], function(vega) {\n",
       "  const target = document.createElement(\"div\");\n",
       "  target.id = id;\n",
       "  target.className = \"vega-embed\";\n",
       "\n",
       "  const style = document.createElement(\"style\");\n",
       "  style.textContent = [\n",
       "    \".vega-embed .error p {\",\n",
       "    \"  color: firebrick;\",\n",
       "    \"  font-size: 14px;\",\n",
       "    \"}\",\n",
       "  ].join(\"\\\\n\");\n",
       "\n",
       "  // element is a jQuery wrapped DOM element inside the output area\n",
       "  // see http://ipython.readthedocs.io/en/stable/api/generated/\\\n",
       "  // IPython.display.html#IPython.display.Javascript.__init__\n",
       "  element[0].appendChild(target);\n",
       "  element[0].appendChild(style);\n",
       "  vega.render(`#${id}`, spec, type, opt, output_area);\n",
       "}, function (err) {\n",
       "  if (err.requireType !== \"scripterror\") {\n",
       "    throw(err);\n",
       "  }\n",
       "});\n"
      ],
      "text/plain": [
       "<vega.vegalite.VegaLite at 0x2aa2d45c400>"
      ]
     },
     "execution_count": 9,
     "metadata": {
      "jupyter-vega": "#8f53e753-ce11-449d-8407-3e5516d409f7"
     },
     "output_type": "execute_result"
    },
    {
     "data": {
      "image/png": "[encoded data removed]"
     },
     "metadata": {
      "jupyter-vega": "#8f53e753-ce11-449d-8407-3e5516d409f7"
     },
     "output_type": "display_data"
    }
   ],
   "source": [
    "VegaLite(example)"
   ]
  },
  {
   "cell_type": "code",
   "execution_count": 6,
   "id": "b43e1be1",
   "metadata": {},
   "outputs": [],
   "source": [
    "example = {\n",
    "  \"data\": {\"url\": \"https://vega.github.io/editor/data/sp500.csv\"},\n",
    "  \"vconcat\": [{\n",
    "    \"width\": 480,\n",
    "    \"mark\": \"area\",\n",
    "    \"encoding\": {\n",
    "      \"x\": {\n",
    "        \"field\": \"date\",\n",
    "        \"type\": \"temporal\",\n",
    "        \"scale\": {\"domain\": {\"selection\": \"brush\"}},\n",
    "        \"axis\": {\"title\": \"\"}\n",
    "      },\n",
    "      \"y\": {\"field\": \"price\", \"type\": \"quantitative\"}\n",
    "    }\n",
    "  }, {\n",
    "    \"width\": 480,\n",
    "    \"height\": 60,\n",
    "    \"mark\": \"area\",\n",
    "    \"selection\": {\n",
    "      \"brush\": {\"type\": \"interval\", \"encodings\": [\"x\"]}\n",
    "    },\n",
    "    \"encoding\": {\n",
    "      \"x\": {\n",
    "        \"field\": \"date\",\n",
    "        \"type\": \"temporal\"\n",
    "      },\n",
    "      \"y\": {\n",
    "        \"field\": \"price\",\n",
    "        \"type\": \"quantitative\",\n",
    "        \"axis\": {\"tickCount\": 3}\n",
    "      }\n",
    "    }\n",
    "  }]\n",
    "}"
   ]
  },
  {
   "cell_type": "code",
   "execution_count": 7,
   "id": "f40b093c",
   "metadata": {},
   "outputs": [
    {
     "data": {
      "application/javascript": [
       "const spec = {\"data\": {\"url\": \"https://vega.github.io/editor/data/sp500.csv\"}, \"vconcat\": [{\"width\": 480, \"mark\": \"area\", \"encoding\": {\"x\": {\"field\": \"date\", \"type\": \"temporal\", \"scale\": {\"domain\": {\"selection\": \"brush\"}}, \"axis\": {\"title\": \"\"}}, \"y\": {\"field\": \"price\", \"type\": \"quantitative\"}}}, {\"width\": 480, \"height\": 60, \"mark\": \"area\", \"selection\": {\"brush\": {\"type\": \"interval\", \"encodings\": [\"x\"]}}, \"encoding\": {\"x\": {\"field\": \"date\", \"type\": \"temporal\"}, \"y\": {\"field\": \"price\", \"type\": \"quantitative\", \"axis\": {\"tickCount\": 3}}}}]};\n",
       "const opt = {};\n",
       "const type = \"vega-lite\";\n",
       "const id = \"86e6f8be-11f1-4706-918b-2200aa5b52ea\";\n",
       "\n",
       "const output_area = this;\n",
       "\n",
       "require([\"jupyter-vega\"], function(vega) {\n",
       "  const target = document.createElement(\"div\");\n",
       "  target.id = id;\n",
       "  target.className = \"vega-embed\";\n",
       "\n",
       "  const style = document.createElement(\"style\");\n",
       "  style.textContent = [\n",
       "    \".vega-embed .error p {\",\n",
       "    \"  color: firebrick;\",\n",
       "    \"  font-size: 14px;\",\n",
       "    \"}\",\n",
       "  ].join(\"\\\\n\");\n",
       "\n",
       "  // element is a jQuery wrapped DOM element inside the output area\n",
       "  // see http://ipython.readthedocs.io/en/stable/api/generated/\\\n",
       "  // IPython.display.html#IPython.display.Javascript.__init__\n",
       "  element[0].appendChild(target);\n",
       "  element[0].appendChild(style);\n",
       "  vega.render(`#${id}`, spec, type, opt, output_area);\n",
       "}, function (err) {\n",
       "  if (err.requireType !== \"scripterror\") {\n",
       "    throw(err);\n",
       "  }\n",
       "});\n"
      ],
      "text/plain": [
       "<vega.vegalite.VegaLite at 0x2aa2d0a0c70>"
      ]
     },
     "execution_count": 7,
     "metadata": {
      "jupyter-vega": "#86e6f8be-11f1-4706-918b-2200aa5b52ea"
     },
     "output_type": "execute_result"
    },
    {
     "data": {
      "image/png": "[encoded data removed]"
     },
     "metadata": {
      "jupyter-vega": "#86e6f8be-11f1-4706-918b-2200aa5b52ea"
     },
     "output_type": "display_data"
    }
   ],
   "source": [
    "VegaLite(example)"
   ]
  },
  {
   "cell_type": "code",
   "execution_count": null,
   "id": "56375df6",
   "metadata": {},
   "outputs": [],
   "source": []
  }
 ],
 "metadata": {
  "kernelspec": {
   "display_name": "Python 3 (ipykernel)",
   "language": "python",
   "name": "python3"
  },
  "language_info": {
   "codemirror_mode": {
    "name": "ipython",
    "version": 3
   },
   "file_extension": ".py",
   "mimetype": "text/x-python",
   "name": "python",
   "nbconvert_exporter": "python",
   "pygments_lexer": "ipython3",
   "version": "3.8.18"
  }
 },
 "nbformat": 4,
 "nbformat_minor": 5
}
